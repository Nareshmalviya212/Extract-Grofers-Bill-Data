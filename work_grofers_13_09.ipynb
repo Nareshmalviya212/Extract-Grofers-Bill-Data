{
  "nbformat": 4,
  "nbformat_minor": 0,
  "metadata": {
    "colab": {
      "provenance": [],
      "collapsed_sections": []
    },
    "kernelspec": {
      "name": "python3",
      "display_name": "Python 3"
    },
    "language_info": {
      "name": "python"
    }
  },
  "cells": [
    {
      "cell_type": "code",
      "execution_count": 47,
      "metadata": {
        "colab": {
          "base_uri": "https://localhost:8080/"
        },
        "id": "9f093gHozOHG",
        "outputId": "22643e26-0289-45c2-860d-fc6e9e80f223"
      },
      "outputs": [
        {
          "output_type": "stream",
          "name": "stdout",
          "text": [
            "Looking in indexes: https://pypi.org/simple, https://us-python.pkg.dev/colab-wheels/public/simple/\n",
            "Requirement already satisfied: pdf2image in /usr/local/lib/python3.7/dist-packages (1.16.0)\n",
            "Requirement already satisfied: pillow in /usr/local/lib/python3.7/dist-packages (from pdf2image) (7.1.2)\n"
          ]
        }
      ],
      "source": [
        "!pip install pdf2image"
      ]
    },
    {
      "cell_type": "code",
      "source": [
        "!sudo apt-get install poppler-utils"
      ],
      "metadata": {
        "colab": {
          "base_uri": "https://localhost:8080/"
        },
        "id": "FgZt69yyzZ7A",
        "outputId": "5988bf4d-de99-429b-bac4-eb13e3569d4e"
      },
      "execution_count": 48,
      "outputs": [
        {
          "output_type": "stream",
          "name": "stdout",
          "text": [
            "Reading package lists... Done\n",
            "Building dependency tree       \n",
            "Reading state information... Done\n",
            "poppler-utils is already the newest version (0.62.0-2ubuntu2.12).\n",
            "The following package was automatically installed and is no longer required:\n",
            "  libnvidia-common-460\n",
            "Use 'sudo apt autoremove' to remove it.\n",
            "0 upgraded, 0 newly installed, 0 to remove and 32 not upgraded.\n"
          ]
        }
      ]
    },
    {
      "cell_type": "code",
      "source": [
        "!pip install easyocr"
      ],
      "metadata": {
        "colab": {
          "base_uri": "https://localhost:8080/"
        },
        "id": "SY1ITVaOzZ9o",
        "outputId": "e036b9e4-b83b-4252-ef75-e6d423ecec1c"
      },
      "execution_count": 49,
      "outputs": [
        {
          "output_type": "stream",
          "name": "stdout",
          "text": [
            "Looking in indexes: https://pypi.org/simple, https://us-python.pkg.dev/colab-wheels/public/simple/\n",
            "Requirement already satisfied: easyocr in /usr/local/lib/python3.7/dist-packages (1.6.1)\n",
            "Requirement already satisfied: scipy in /usr/local/lib/python3.7/dist-packages (from easyocr) (1.7.3)\n",
            "Requirement already satisfied: PyYAML in /usr/local/lib/python3.7/dist-packages (from easyocr) (6.0)\n",
            "Requirement already satisfied: numpy in /usr/local/lib/python3.7/dist-packages (from easyocr) (1.21.6)\n",
            "Requirement already satisfied: torchvision>=0.5 in /usr/local/lib/python3.7/dist-packages (from easyocr) (0.13.1+cu113)\n",
            "Requirement already satisfied: torch in /usr/local/lib/python3.7/dist-packages (from easyocr) (1.12.1+cu113)\n",
            "Requirement already satisfied: pyclipper in /usr/local/lib/python3.7/dist-packages (from easyocr) (1.3.0.post3)\n",
            "Requirement already satisfied: ninja in /usr/local/lib/python3.7/dist-packages (from easyocr) (1.10.2.3)\n",
            "Requirement already satisfied: Shapely in /usr/local/lib/python3.7/dist-packages (from easyocr) (1.8.4)\n",
            "Requirement already satisfied: Pillow in /usr/local/lib/python3.7/dist-packages (from easyocr) (7.1.2)\n",
            "Requirement already satisfied: scikit-image in /usr/local/lib/python3.7/dist-packages (from easyocr) (0.18.3)\n",
            "Requirement already satisfied: opencv-python-headless<=4.5.4.60 in /usr/local/lib/python3.7/dist-packages (from easyocr) (4.1.2.30)\n",
            "Requirement already satisfied: python-bidi in /usr/local/lib/python3.7/dist-packages (from easyocr) (0.4.2)\n",
            "Requirement already satisfied: typing-extensions in /usr/local/lib/python3.7/dist-packages (from torchvision>=0.5->easyocr) (4.1.1)\n",
            "Requirement already satisfied: requests in /usr/local/lib/python3.7/dist-packages (from torchvision>=0.5->easyocr) (2.23.0)\n",
            "Requirement already satisfied: six in /usr/local/lib/python3.7/dist-packages (from python-bidi->easyocr) (1.15.0)\n",
            "Requirement already satisfied: chardet<4,>=3.0.2 in /usr/local/lib/python3.7/dist-packages (from requests->torchvision>=0.5->easyocr) (3.0.4)\n",
            "Requirement already satisfied: idna<3,>=2.5 in /usr/local/lib/python3.7/dist-packages (from requests->torchvision>=0.5->easyocr) (2.10)\n",
            "Requirement already satisfied: urllib3!=1.25.0,!=1.25.1,<1.26,>=1.21.1 in /usr/local/lib/python3.7/dist-packages (from requests->torchvision>=0.5->easyocr) (1.24.3)\n",
            "Requirement already satisfied: certifi>=2017.4.17 in /usr/local/lib/python3.7/dist-packages (from requests->torchvision>=0.5->easyocr) (2022.6.15)\n",
            "Requirement already satisfied: matplotlib!=3.0.0,>=2.0.0 in /usr/local/lib/python3.7/dist-packages (from scikit-image->easyocr) (3.2.2)\n",
            "Requirement already satisfied: imageio>=2.3.0 in /usr/local/lib/python3.7/dist-packages (from scikit-image->easyocr) (2.9.0)\n",
            "Requirement already satisfied: PyWavelets>=1.1.1 in /usr/local/lib/python3.7/dist-packages (from scikit-image->easyocr) (1.3.0)\n",
            "Requirement already satisfied: networkx>=2.0 in /usr/local/lib/python3.7/dist-packages (from scikit-image->easyocr) (2.6.3)\n",
            "Requirement already satisfied: tifffile>=2019.7.26 in /usr/local/lib/python3.7/dist-packages (from scikit-image->easyocr) (2021.11.2)\n",
            "Requirement already satisfied: kiwisolver>=1.0.1 in /usr/local/lib/python3.7/dist-packages (from matplotlib!=3.0.0,>=2.0.0->scikit-image->easyocr) (1.4.4)\n",
            "Requirement already satisfied: cycler>=0.10 in /usr/local/lib/python3.7/dist-packages (from matplotlib!=3.0.0,>=2.0.0->scikit-image->easyocr) (0.11.0)\n",
            "Requirement already satisfied: python-dateutil>=2.1 in /usr/local/lib/python3.7/dist-packages (from matplotlib!=3.0.0,>=2.0.0->scikit-image->easyocr) (2.8.2)\n",
            "Requirement already satisfied: pyparsing!=2.0.4,!=2.1.2,!=2.1.6,>=2.0.1 in /usr/local/lib/python3.7/dist-packages (from matplotlib!=3.0.0,>=2.0.0->scikit-image->easyocr) (3.0.9)\n"
          ]
        }
      ]
    },
    {
      "cell_type": "code",
      "source": [
        "!pip install opencv-python-headless==4.1.2.30"
      ],
      "metadata": {
        "colab": {
          "base_uri": "https://localhost:8080/"
        },
        "id": "BE9SadQFzaAM",
        "outputId": "4c76f554-484b-4b54-cbb9-8315966ab20a"
      },
      "execution_count": 50,
      "outputs": [
        {
          "output_type": "stream",
          "name": "stdout",
          "text": [
            "Looking in indexes: https://pypi.org/simple, https://us-python.pkg.dev/colab-wheels/public/simple/\n",
            "Requirement already satisfied: opencv-python-headless==4.1.2.30 in /usr/local/lib/python3.7/dist-packages (4.1.2.30)\n",
            "Requirement already satisfied: numpy>=1.14.5 in /usr/local/lib/python3.7/dist-packages (from opencv-python-headless==4.1.2.30) (1.21.6)\n"
          ]
        }
      ]
    },
    {
      "cell_type": "code",
      "source": [
        "import pandas as pd\n",
        "import numpy as np\n",
        "import cv2\n",
        "import easyocr\n",
        "import matplotlib.pyplot as plt\n",
        "from google.colab.patches import cv2_imshow\n",
        "from pdf2image import convert_from_path"
      ],
      "metadata": {
        "id": "w5X1qlTdzktN"
      },
      "execution_count": 51,
      "outputs": []
    },
    {
      "cell_type": "code",
      "source": [
        "reader=easyocr.Reader(['en'])\n",
        "reader"
      ],
      "metadata": {
        "colab": {
          "base_uri": "https://localhost:8080/"
        },
        "id": "D4Brinddzw38",
        "outputId": "83048dae-3798-4470-aab0-59373e8daec5"
      },
      "execution_count": 52,
      "outputs": [
        {
          "output_type": "stream",
          "name": "stderr",
          "text": [
            "WARNING:easyocr.easyocr:CUDA not available - defaulting to CPU. Note: This module is much faster with a GPU.\n",
            "/usr/local/lib/python3.7/dist-packages/torchvision/models/_utils.py:253: UserWarning: Accessing the model URLs via the internal dictionary of the module is deprecated since 0.13 and will be removed in 0.15. Please access them via the appropriate Weights Enum instead.\n",
            "  \"Accessing the model URLs via the internal dictionary of the module is deprecated since 0.13 and will \"\n",
            "/usr/local/lib/python3.7/dist-packages/torchvision/models/_utils.py:209: UserWarning: The parameter 'pretrained' is deprecated since 0.13 and will be removed in 0.15, please use 'weights' instead.\n",
            "  f\"The parameter '{pretrained_param}' is deprecated since 0.13 and will be removed in 0.15, \"\n",
            "/usr/local/lib/python3.7/dist-packages/torchvision/models/_utils.py:223: UserWarning: Arguments other than a weight enum or `None` for 'weights' are deprecated since 0.13 and will be removed in 0.15. The current behavior is equivalent to passing `weights=None`.\n",
            "  warnings.warn(msg)\n"
          ]
        },
        {
          "output_type": "execute_result",
          "data": {
            "text/plain": [
              "<easyocr.easyocr.Reader at 0x7fc267cf6fd0>"
            ]
          },
          "metadata": {},
          "execution_count": 52
        }
      ]
    },
    {
      "cell_type": "code",
      "source": [
        "img=cv2.imread('/content/download (4).jpg')\n",
        "#Img_resize=cv2.resize(img,(700,400))\n",
        "# Using cv2.rotate() method\n",
        "# Using cv2.ROTATE_90_CLOCKWISE rotate\n",
        "# by 90 degrees clockwise\n",
        "#img = cv2.rotate(img, cv2.ROTATE_90_COUNTERCLOCKWISE)\n",
        "cv2_imshow(img)"
      ],
      "metadata": {
        "colab": {
          "base_uri": "https://localhost:8080/",
          "height": 276
        },
        "id": "6T4g9lqdzw6C",
        "outputId": "932a3a53-c9a8-4fc7-8502-9c6d6bee72f3"
      },
      "execution_count": 238,
      "outputs": [
        {
          "output_type": "display_data",
          "data": {
            "text/plain": [
              "<PIL.Image.Image image mode=RGB size=194x259 at 0x7FC264DAB510>"
            ],
            "image/png": "[encoded data removed]"
          },
          "metadata": {}
        }
      ]
    },
    {
      "cell_type": "code",
      "source": [
        "output=reader.readtext(img)\n",
        "#output\n",
        "\n",
        "output1 = reader.readtext(img, allowlist ='0123456789')\n",
        "#output1\n",
        "\n",
        "dt=[]\n",
        "for i in range(len(output)):\n",
        "  result=output[i][-2]\n",
        "  dt.append(result)\n",
        "  print(result)"
      ],
      "metadata": {
        "colab": {
          "base_uri": "https://localhost:8080/"
        },
        "id": "W2KOdMnfzw8S",
        "outputId": "08da5acf-d6ae-4969-a48f-1d4a64dcc351"
      },
      "execution_count": 239,
      "outputs": [
        {
          "output_type": "stream",
          "name": "stdout",
          "text": [
            "Tn_7\n",
            "Aeent\n",
            "RELALUKII\n",
            "Lalt\"\n",
            "erctM\n",
            "#o \n",
            "UsteC\n",
            "Oooo o03\n",
            "Di-\n",
            "Hnenerhe\n",
            "Fms=\n",
            "aorok\n",
            "de\"ca?TC\n",
            "Cqut\n",
            "Mc' Jic 02\n",
            "Tnud\n",
            "Wu_ted #vee\n",
            "Jen Oua\n",
            "SuveRa\n",
            "40,00e\n",
            "#0\n"
          ]
        }
      ]
    },
    {
      "cell_type": "code",
      "source": [
        "#print(dt)\n",
        "boss=\" \".join(str(x) for x in dt)\n",
        "print(boss)"
      ],
      "metadata": {
        "colab": {
          "base_uri": "https://localhost:8080/"
        },
        "id": "p8PXuLSEGhv4",
        "outputId": "6031e645-e93e-40f1-9830-d2c6f9dc5519"
      },
      "execution_count": 240,
      "outputs": [
        {
          "output_type": "stream",
          "name": "stdout",
          "text": [
            "Tn_7 Aeent RELALUKII Lalt\" erctM #o  UsteC Oooo o03 Di- Hnenerhe Fms= aorok de\"ca?TC Cqut Mc' Jic 02 Tnud Wu_ted #vee Jen Oua SuveRa 40,00e #0\n"
          ]
        }
      ]
    },
    {
      "cell_type": "code",
      "source": [],
      "metadata": {
        "id": "u-G5SLZ_Puj1"
      },
      "execution_count": 240,
      "outputs": []
    },
    {
      "cell_type": "code",
      "source": [
        "for i in range(len(output1)):\n",
        "  result1=output1[i][-2]\n",
        "  print(result1) "
      ],
      "metadata": {
        "colab": {
          "base_uri": "https://localhost:8080/"
        },
        "id": "bve6lO5Zzw_l",
        "outputId": "4b704c40-81b4-4e37-853f-dfa9cf4cf2fe"
      },
      "execution_count": 241,
      "outputs": [
        {
          "output_type": "stream",
          "name": "stdout",
          "text": [
            "7\n",
            "4\n",
            "62442\n",
            "\n",
            "3\n",
            "00\n",
            "5\n",
            "0000305\n",
            "22\n",
            "426\n",
            "435\n",
            "932\n",
            "04525\n",
            "42\n",
            "3131002\n",
            "76\n",
            "4\n",
            "82\n",
            "81\n",
            "4000\n",
            "0\n"
          ]
        }
      ]
    },
    {
      "cell_type": "code",
      "source": [
        "df1=pd.DataFrame(output)\n",
        "Extract_text=pd.DataFrame(df1[1])\n",
        "Extract_text.columns=['Text']\n",
        "Extract_text.head(50)"
      ],
      "metadata": {
        "colab": {
          "base_uri": "https://localhost:8080/",
          "height": 708
        },
        "id": "L0iuQD3jzxDr",
        "outputId": "0b37db5c-3c50-4ee3-a15c-b44ce6e57e00"
      },
      "execution_count": 242,
      "outputs": [
        {
          "output_type": "execute_result",
          "data": {
            "text/plain": [
              "           Text\n",
              "0          Tn_7\n",
              "1         Aeent\n",
              "2     RELALUKII\n",
              "3         Lalt\"\n",
              "4         erctM\n",
              "5           #o \n",
              "6         UsteC\n",
              "7      Oooo o03\n",
              "8           Di-\n",
              "9      Hnenerhe\n",
              "10         Fms=\n",
              "11        aorok\n",
              "12     de\"ca?TC\n",
              "13         Cqut\n",
              "14   Mc' Jic 02\n",
              "15         Tnud\n",
              "16  Wu_ted #vee\n",
              "17      Jen Oua\n",
              "18       SuveRa\n",
              "19       40,00e\n",
              "20           #0"
            ],
            "text/html": [
              "\n",
              "  <div id=\"df-c3db1f6b-5af6-4786-bde4-e1c3b90ec06b\">\n",
              "    <div class=\"colab-df-container\">\n",
              "      <div>\n",
              "<style scoped>\n",
              "    .dataframe tbody tr th:only-of-type {\n",
              "        vertical-align: middle;\n",
              "    }\n",
              "\n",
              "    .dataframe tbody tr th {\n",
              "        vertical-align: top;\n",
              "    }\n",
              "\n",
              "    .dataframe thead th {\n",
              "        text-align: right;\n",
              "    }\n",
              "</style>\n",
              "<table border=\"1\" class=\"dataframe\">\n",
              "  <thead>\n",
              "    <tr style=\"text-align: right;\">\n",
              "      <th></th>\n",
              "      <th>Text</th>\n",
              "    </tr>\n",
              "  </thead>\n",
              "  <tbody>\n",
              "    <tr>\n",
              "      <th>0</th>\n",
              "      <td>Tn_7</td>\n",
              "    </tr>\n",
              "    <tr>\n",
              "      <th>1</th>\n",
              "      <td>Aeent</td>\n",
              "    </tr>\n",
              "    <tr>\n",
              "      <th>2</th>\n",
              "      <td>RELALUKII</td>\n",
              "    </tr>\n",
              "    <tr>\n",
              "      <th>3</th>\n",
              "      <td>Lalt\"</td>\n",
              "    </tr>\n",
              "    <tr>\n",
              "      <th>4</th>\n",
              "      <td>erctM</td>\n",
              "    </tr>\n",
              "    <tr>\n",
              "      <th>5</th>\n",
              "      <td>#o</td>\n",
              "    </tr>\n",
              "    <tr>\n",
              "      <th>6</th>\n",
              "      <td>UsteC</td>\n",
              "    </tr>\n",
              "    <tr>\n",
              "      <th>7</th>\n",
              "      <td>Oooo o03</td>\n",
              "    </tr>\n",
              "    <tr>\n",
              "      <th>8</th>\n",
              "      <td>Di-</td>\n",
              "    </tr>\n",
              "    <tr>\n",
              "      <th>9</th>\n",
              "      <td>Hnenerhe</td>\n",
              "    </tr>\n",
              "    <tr>\n",
              "      <th>10</th>\n",
              "      <td>Fms=</td>\n",
              "    </tr>\n",
              "    <tr>\n",
              "      <th>11</th>\n",
              "      <td>aorok</td>\n",
              "    </tr>\n",
              "    <tr>\n",
              "      <th>12</th>\n",
              "      <td>de\"ca?TC</td>\n",
              "    </tr>\n",
              "    <tr>\n",
              "      <th>13</th>\n",
              "      <td>Cqut</td>\n",
              "    </tr>\n",
              "    <tr>\n",
              "      <th>14</th>\n",
              "      <td>Mc' Jic 02</td>\n",
              "    </tr>\n",
              "    <tr>\n",
              "      <th>15</th>\n",
              "      <td>Tnud</td>\n",
              "    </tr>\n",
              "    <tr>\n",
              "      <th>16</th>\n",
              "      <td>Wu_ted #vee</td>\n",
              "    </tr>\n",
              "    <tr>\n",
              "      <th>17</th>\n",
              "      <td>Jen Oua</td>\n",
              "    </tr>\n",
              "    <tr>\n",
              "      <th>18</th>\n",
              "      <td>SuveRa</td>\n",
              "    </tr>\n",
              "    <tr>\n",
              "      <th>19</th>\n",
              "      <td>40,00e</td>\n",
              "    </tr>\n",
              "    <tr>\n",
              "      <th>20</th>\n",
              "      <td>#0</td>\n",
              "    </tr>\n",
              "  </tbody>\n",
              "</table>\n",
              "</div>\n",
              "      <button class=\"colab-df-convert\" onclick=\"convertToInteractive('df-c3db1f6b-5af6-4786-bde4-e1c3b90ec06b')\"\n",
              "              title=\"Convert this dataframe to an interactive table.\"\n",
              "              style=\"display:none;\">\n",
              "        \n",
              "  <svg xmlns=\"http://www.w3.org/2000/svg\" height=\"24px\"viewBox=\"0 0 24 24\"\n",
              "       width=\"24px\">\n",
              "    <path d=\"M0 0h24v24H0V0z\" fill=\"none\"/>\n",
              "    <path d=\"M18.56 5.44l.94 2.06.94-2.06 2.06-.94-2.06-.94-.94-2.06-.94 2.06-2.06.94zm-11 1L8.5 8.5l.94-2.06 2.06-.94-2.06-.94L8.5 2.5l-.94 2.06-2.06.94zm10 10l.94 2.06.94-2.06 2.06-.94-2.06-.94-.94-2.06-.94 2.06-2.06.94z\"/><path d=\"M17.41 7.96l-1.37-1.37c-.4-.4-.92-.59-1.43-.59-.52 0-1.04.2-1.43.59L10.3 9.45l-7.72 7.72c-.78.78-.78 2.05 0 2.83L4 21.41c.39.39.9.59 1.41.59.51 0 1.02-.2 1.41-.59l7.78-7.78 2.81-2.81c.8-.78.8-2.07 0-2.86zM5.41 20L4 18.59l7.72-7.72 1.47 1.35L5.41 20z\"/>\n",
              "  </svg>\n",
              "      </button>\n",
              "      \n",
              "  <style>\n",
              "    .colab-df-container {\n",
              "      display:flex;\n",
              "      flex-wrap:wrap;\n",
              "      gap: 12px;\n",
              "    }\n",
              "\n",
              "    .colab-df-convert {\n",
              "      background-color: #E8F0FE;\n",
              "      border: none;\n",
              "      border-radius: 50%;\n",
              "      cursor: pointer;\n",
              "      display: none;\n",
              "      fill: #1967D2;\n",
              "      height: 32px;\n",
              "      padding: 0 0 0 0;\n",
              "      width: 32px;\n",
              "    }\n",
              "\n",
              "    .colab-df-convert:hover {\n",
              "      background-color: #E2EBFA;\n",
              "      box-shadow: 0px 1px 2px rgba(60, 64, 67, 0.3), 0px 1px 3px 1px rgba(60, 64, 67, 0.15);\n",
              "      fill: #174EA6;\n",
              "    }\n",
              "\n",
              "    [theme=dark] .colab-df-convert {\n",
              "      background-color: #3B4455;\n",
              "      fill: #D2E3FC;\n",
              "    }\n",
              "\n",
              "    [theme=dark] .colab-df-convert:hover {\n",
              "      background-color: #434B5C;\n",
              "      box-shadow: 0px 1px 3px 1px rgba(0, 0, 0, 0.15);\n",
              "      filter: drop-shadow(0px 1px 2px rgba(0, 0, 0, 0.3));\n",
              "      fill: #FFFFFF;\n",
              "    }\n",
              "  </style>\n",
              "\n",
              "      <script>\n",
              "        const buttonEl =\n",
              "          document.querySelector('#df-c3db1f6b-5af6-4786-bde4-e1c3b90ec06b button.colab-df-convert');\n",
              "        buttonEl.style.display =\n",
              "          google.colab.kernel.accessAllowed ? 'block' : 'none';\n",
              "\n",
              "        async function convertToInteractive(key) {\n",
              "          const element = document.querySelector('#df-c3db1f6b-5af6-4786-bde4-e1c3b90ec06b');\n",
              "          const dataTable =\n",
              "            await google.colab.kernel.invokeFunction('convertToInteractive',\n",
              "                                                     [key], {});\n",
              "          if (!dataTable) return;\n",
              "\n",
              "          const docLinkHtml = 'Like what you see? Visit the ' +\n",
              "            '<a target=\"_blank\" href=https://colab.research.google.com/notebooks/data_table.ipynb>data table notebook</a>'\n",
              "            + ' to learn more about interactive tables.';\n",
              "          element.innerHTML = '';\n",
              "          dataTable['output_type'] = 'display_data';\n",
              "          await google.colab.output.renderOutput(dataTable, element);\n",
              "          const docLink = document.createElement('div');\n",
              "          docLink.innerHTML = docLinkHtml;\n",
              "          element.appendChild(docLink);\n",
              "        }\n",
              "      </script>\n",
              "    </div>\n",
              "  </div>\n",
              "  "
            ]
          },
          "metadata": {},
          "execution_count": 242
        }
      ]
    },
    {
      "cell_type": "code",
      "source": [],
      "metadata": {
        "id": "6-qdM73U-S70"
      },
      "execution_count": 242,
      "outputs": []
    },
    {
      "cell_type": "code",
      "source": [
        "'''import pandas as pd\n",
        " \n",
        "# intialise data of lists.\n",
        "data = {'Text':['29GGGGG1314R9Z6','L21091KA2019OPC141331','Total Amount','5000','Total Discount','545','Net Amount','202','Biller : 5d5f7','ALWPG5809L', 'Bill No : 984651', 'Date : 09 sep 2022','Place of Supply : Mumbai']}\n",
        " \n",
        "# Create DataFrame\n",
        "df = pd.DataFrame(data)\n",
        " \n",
        "# Print the output.\n",
        "Extract_text=df\n",
        "print(Extract_text)'''"
      ],
      "metadata": {
        "colab": {
          "base_uri": "https://localhost:8080/",
          "height": 87
        },
        "id": "SNoDamd4DIhF",
        "outputId": "0d23bfd2-f9d7-43fe-b9f4-4dfd4792528e"
      },
      "execution_count": 243,
      "outputs": [
        {
          "output_type": "execute_result",
          "data": {
            "text/plain": [
              "\"import pandas as pd\\n \\n# intialise data of lists.\\ndata = {'Text':['29GGGGG1314R9Z6','L21091KA2019OPC141331','Total Amount','5000','Total Discount','545','Net Amount','202','Biller : 5d5f7','ALWPG5809L', 'Bill No : 984651', 'Date : 09 sep 2022','Place of Supply : Mumbai']}\\n \\n# Create DataFrame\\ndf = pd.DataFrame(data)\\n \\n# Print the output.\\nExtract_text=df\\nprint(Extract_text)\""
            ],
            "application/vnd.google.colaboratory.intrinsic+json": {
              "type": "string"
            }
          },
          "metadata": {},
          "execution_count": 243
        }
      ]
    },
    {
      "cell_type": "code",
      "source": [
        "\n"
      ],
      "metadata": {
        "id": "oV5zLuLe013S"
      },
      "execution_count": 243,
      "outputs": []
    },
    {
      "cell_type": "code",
      "source": [
        "ser = pd.Series(Extract_text[\"Text\"])\n",
        "ser"
      ],
      "metadata": {
        "id": "5Sz0m7syCKX9",
        "colab": {
          "base_uri": "https://localhost:8080/"
        },
        "outputId": "0075065a-e54d-46c7-b438-f307309862c3"
      },
      "execution_count": 244,
      "outputs": [
        {
          "output_type": "execute_result",
          "data": {
            "text/plain": [
              "0            Tn_7\n",
              "1           Aeent\n",
              "2       RELALUKII\n",
              "3           Lalt\"\n",
              "4           erctM\n",
              "5             #o \n",
              "6           UsteC\n",
              "7        Oooo o03\n",
              "8             Di-\n",
              "9        Hnenerhe\n",
              "10           Fms=\n",
              "11          aorok\n",
              "12       de\"ca?TC\n",
              "13           Cqut\n",
              "14     Mc' Jic 02\n",
              "15           Tnud\n",
              "16    Wu_ted #vee\n",
              "17        Jen Oua\n",
              "18         SuveRa\n",
              "19         40,00e\n",
              "20             #0\n",
              "Name: Text, dtype: object"
            ]
          },
          "metadata": {},
          "execution_count": 244
        }
      ]
    },
    {
      "cell_type": "markdown",
      "source": [
        "# GSTIN"
      ],
      "metadata": {
        "id": "PIxDzPjYmfa4"
      }
    },
    {
      "cell_type": "code",
      "source": [
        "#GSTIN Number\n",
        "A=[]\n",
        "for i in Extract_text['Text']:\n",
        "     if len(i)>=15:\n",
        "       if i[-2]=='Z':\n",
        "         A.append(i)"
      ],
      "metadata": {
        "id": "_Hng29ac0EEu"
      },
      "execution_count": 245,
      "outputs": []
    },
    {
      "cell_type": "code",
      "source": [
        "print(A)"
      ],
      "metadata": {
        "colab": {
          "base_uri": "https://localhost:8080/"
        },
        "id": "XLFSKsTymbHd",
        "outputId": "1ba1fe93-81b8-4058-b4a8-dc1f10464072"
      },
      "execution_count": 246,
      "outputs": [
        {
          "output_type": "stream",
          "name": "stdout",
          "text": [
            "[]\n"
          ]
        }
      ]
    },
    {
      "cell_type": "markdown",
      "source": [
        "# CIN"
      ],
      "metadata": {
        "id": "PUtGJjRu6dRi"
      }
    },
    {
      "cell_type": "code",
      "source": [
        "#CIN Number\n",
        "B=[]\n",
        "for i in Extract_text['Text']:\n",
        "     if len(i)==21:\n",
        "       if i[0]=='U' or i[0]=='L':\n",
        "         B.append(i)"
      ],
      "metadata": {
        "id": "_j-HEaP96etu"
      },
      "execution_count": 247,
      "outputs": []
    },
    {
      "cell_type": "code",
      "source": [
        "print(B)"
      ],
      "metadata": {
        "colab": {
          "base_uri": "https://localhost:8080/"
        },
        "id": "LpXMYYVXZ9nX",
        "outputId": "2ffc8afc-7557-4845-ac2d-f934d5098457"
      },
      "execution_count": 248,
      "outputs": [
        {
          "output_type": "stream",
          "name": "stdout",
          "text": [
            "[]\n"
          ]
        }
      ]
    },
    {
      "cell_type": "markdown",
      "source": [
        "# PAN"
      ],
      "metadata": {
        "id": "JT6eNWZyak-1"
      }
    },
    {
      "cell_type": "code",
      "source": [
        "import re\n",
        "#PAN \n",
        "#pan_regex ='[A-Z]{5}[0-9]{4}[A-Z]{1}'\n",
        "t=[]\n",
        "for a in Extract_text.index:\n",
        "  found = re.search('[A-Z]{5}[0-9]{4}[A-Z]{1}', Extract_text['Text'][a])\n",
        "  if found:\n",
        "    fo=found.group(0)\n",
        "    t.append(fo)"
      ],
      "metadata": {
        "id": "cZz2OcYCVZSz"
      },
      "execution_count": 249,
      "outputs": []
    },
    {
      "cell_type": "code",
      "source": [
        "print(type(t))"
      ],
      "metadata": {
        "colab": {
          "base_uri": "https://localhost:8080/"
        },
        "id": "cGHeRFwmmKFo",
        "outputId": "ae2f1913-7737-4e1f-d4f3-024f4bcea155"
      },
      "execution_count": 250,
      "outputs": [
        {
          "output_type": "stream",
          "name": "stdout",
          "text": [
            "<class 'list'>\n"
          ]
        }
      ]
    },
    {
      "cell_type": "code",
      "source": [
        "print(t)"
      ],
      "metadata": {
        "colab": {
          "base_uri": "https://localhost:8080/"
        },
        "id": "5U18l0JNjbK6",
        "outputId": "ed33d88c-e7f5-462f-b0bd-2e24c3f0ae18"
      },
      "execution_count": 251,
      "outputs": [
        {
          "output_type": "stream",
          "name": "stdout",
          "text": [
            "[]\n"
          ]
        }
      ]
    },
    {
      "cell_type": "markdown",
      "source": [
        "# Bill No"
      ],
      "metadata": {
        "id": "DR2LjkND_gFl"
      }
    },
    {
      "cell_type": "code",
      "source": [
        "\n",
        "bi=[]\n",
        "for i in Extract_text['Text']:\n",
        "  if i.startswith(\"Bill No\"):\n",
        "    #i.replace(\"Bill No\",\"\")\n",
        "    bi.append(i)"
      ],
      "metadata": {
        "id": "TptQh8mqmnYK"
      },
      "execution_count": 252,
      "outputs": []
    },
    {
      "cell_type": "code",
      "source": [
        "print(bi)"
      ],
      "metadata": {
        "colab": {
          "base_uri": "https://localhost:8080/"
        },
        "id": "FzLCNoa7yiXL",
        "outputId": "92830823-af6c-4c0b-f329-31f8fefa6a99"
      },
      "execution_count": 253,
      "outputs": [
        {
          "output_type": "stream",
          "name": "stdout",
          "text": [
            "[]\n"
          ]
        }
      ]
    },
    {
      "cell_type": "markdown",
      "source": [
        "# Date"
      ],
      "metadata": {
        "id": "icyyMsKt_iYe"
      }
    },
    {
      "cell_type": "code",
      "source": [
        "d_l=[]\n",
        "for d in Extract_text['Text']:\n",
        "  if d.startswith(\"Date:\"):\n",
        "    d_l.append(d)"
      ],
      "metadata": {
        "id": "CFLkIaqLpnER"
      },
      "execution_count": 254,
      "outputs": []
    },
    {
      "cell_type": "code",
      "source": [
        "\n",
        "\n",
        "\n",
        "print(d_l)"
      ],
      "metadata": {
        "colab": {
          "base_uri": "https://localhost:8080/"
        },
        "id": "LW_jwjXsxMTL",
        "outputId": "14cce93a-e405-4a36-f18c-7465cff13693"
      },
      "execution_count": 255,
      "outputs": [
        {
          "output_type": "stream",
          "name": "stdout",
          "text": [
            "[]\n"
          ]
        }
      ]
    },
    {
      "cell_type": "markdown",
      "source": [
        "\n",
        "# place of supply"
      ],
      "metadata": {
        "id": "CzhJt-MD_kys"
      }
    },
    {
      "cell_type": "code",
      "source": [
        "pl=[]\n",
        "for p1 in Extract_text['Text']:\n",
        "  if p1.startswith(\"Place of Supply\"):\n",
        "    pl.append(p1)"
      ],
      "metadata": {
        "id": "A7ytBv9npnJk"
      },
      "execution_count": 256,
      "outputs": []
    },
    {
      "cell_type": "code",
      "source": [
        "print(pl)"
      ],
      "metadata": {
        "id": "g29QHWByyuEE",
        "colab": {
          "base_uri": "https://localhost:8080/"
        },
        "outputId": "a117d8c5-91e6-4f3d-cb2b-aa389c3a8f93"
      },
      "execution_count": 257,
      "outputs": [
        {
          "output_type": "stream",
          "name": "stdout",
          "text": [
            "[]\n"
          ]
        }
      ]
    },
    {
      "cell_type": "markdown",
      "source": [
        "# Biller"
      ],
      "metadata": {
        "id": "Gbpfh8la_yPg"
      }
    },
    {
      "cell_type": "code",
      "source": [
        "bb=[]\n",
        "\n",
        "for b in Extract_text['Text']:\n",
        "  if len(b)<=6:\n",
        "    if b.startswith(\"Biller\"):\n",
        "      pp=ser[ser==b].index[0]\n",
        "      index=pp+1\n",
        "      ppo=ser[index]\n",
        "      fn_data=b+'-'+str(ppo)\n",
        "      bb.append(fn_data)\n",
        "  \n",
        "  elif len(b)>=6:\n",
        "    if b.startswith(\"Biller\"):\n",
        "      bb.append(b)\n"
      ],
      "metadata": {
        "id": "fuwxMLJ-pnMb"
      },
      "execution_count": 258,
      "outputs": []
    },
    {
      "cell_type": "code",
      "source": [
        "print(bb)"
      ],
      "metadata": {
        "colab": {
          "base_uri": "https://localhost:8080/"
        },
        "id": "1VVoWNzYxzOc",
        "outputId": "18cf0bc9-c6fe-41d8-8014-ed26109887d1"
      },
      "execution_count": 259,
      "outputs": [
        {
          "output_type": "stream",
          "name": "stdout",
          "text": [
            "[]\n"
          ]
        }
      ]
    },
    {
      "cell_type": "markdown",
      "source": [
        "# Amount"
      ],
      "metadata": {
        "id": "HIg6hUFFC0BX"
      }
    },
    {
      "cell_type": "code",
      "source": [
        "element=[]\n",
        "for tt in ser:\n",
        "  if tt=='Total Amount':\n",
        "    x = ser[ser == 'Total Amount'].index[0]\n",
        "    index=x+1\n",
        "    amount=ser[index]\n",
        "    final_data=amount\n",
        "    element.append(final_data)"
      ],
      "metadata": {
        "id": "8UhZTSLYiazV"
      },
      "execution_count": 260,
      "outputs": []
    },
    {
      "cell_type": "code",
      "source": [
        "element_2=[]\n",
        "for tt in ser:\n",
        "  if tt=='Total Discount':\n",
        "    x = ser[ser == 'Total Discount'].index[0]\n",
        "    index=x+1\n",
        "    amount=ser[index]\n",
        "    final_data=amount\n",
        "    element_2.append(final_data)"
      ],
      "metadata": {
        "id": "bF3czrMMK3hi"
      },
      "execution_count": 261,
      "outputs": []
    },
    {
      "cell_type": "code",
      "source": [
        "element_3=[]\n",
        "for tt in ser:\n",
        "  if tt=='Net Amount':\n",
        "    x = ser[ser == 'Net Amount'].index[0]\n",
        "    index=x+1\n",
        "    amount=ser[index]\n",
        "    final_data=amount\n",
        "    element_3.append(final_data)"
      ],
      "metadata": {
        "id": "Hsg82CvMPVY5"
      },
      "execution_count": 262,
      "outputs": []
    },
    {
      "cell_type": "code",
      "source": [
        "print(element)\n",
        "print(element_2)\n",
        "print(element_3)"
      ],
      "metadata": {
        "id": "SxfCAoRaDhlw",
        "colab": {
          "base_uri": "https://localhost:8080/"
        },
        "outputId": "ab7fdcd6-a39c-42fe-fbd9-dde5beb42ae5"
      },
      "execution_count": 263,
      "outputs": [
        {
          "output_type": "stream",
          "name": "stdout",
          "text": [
            "[]\n",
            "[]\n",
            "[]\n"
          ]
        }
      ]
    },
    {
      "cell_type": "markdown",
      "source": [
        "# Customer Name"
      ],
      "metadata": {
        "id": "5fM8bdLTbQ9m"
      }
    },
    {
      "cell_type": "code",
      "source": [
        "cn=[]\n",
        "for n in Extract_text['Text']:\n",
        "  if n.startswith(\"Nane\"):\n",
        "    cn.append(n)"
      ],
      "metadata": {
        "id": "4yQIqYZpCKfF"
      },
      "execution_count": 264,
      "outputs": []
    },
    {
      "cell_type": "code",
      "source": [
        "print(cn)"
      ],
      "metadata": {
        "id": "OPzZdkILCKjJ",
        "colab": {
          "base_uri": "https://localhost:8080/"
        },
        "outputId": "279fb3bb-4c7b-416f-e9e8-93ae978265ce"
      },
      "execution_count": 265,
      "outputs": [
        {
          "output_type": "stream",
          "name": "stdout",
          "text": [
            "[]\n"
          ]
        }
      ]
    },
    {
      "cell_type": "markdown",
      "source": [
        "# Address"
      ],
      "metadata": {
        "id": "9cKm5a1_b7HG"
      }
    },
    {
      "cell_type": "code",
      "source": [
        "add=[]\n",
        "fg=[]\n",
        "for ad in Extract_text['Text']:\n",
        "  if ad.startswith(\"Address\"):\n",
        "    add.append(ad)\n",
        "    y = ser[ser == add[0]].index[0]\n",
        "    ads=y+1\n",
        "    ap=ser[ads]\n",
        "    add.append(ap)\n",
        "    ja=str(add)\n",
        "    jj=ja.replace(\",\",\" \").replace(\"[\",\"\").replace(\"]\",\"\").replace(\"'\",'')\n",
        "    print(jj)\n",
        "    fg.append(jj)"
      ],
      "metadata": {
        "id": "7DltLQxYb-K_"
      },
      "execution_count": 266,
      "outputs": []
    },
    {
      "cell_type": "code",
      "source": [
        "print(fg)"
      ],
      "metadata": {
        "id": "m9ZVSxgj3nRm",
        "colab": {
          "base_uri": "https://localhost:8080/"
        },
        "outputId": "ee493f91-4b2c-473e-e474-785d7b69fccd"
      },
      "execution_count": 267,
      "outputs": [
        {
          "output_type": "stream",
          "name": "stdout",
          "text": [
            "[]\n"
          ]
        }
      ]
    },
    {
      "cell_type": "code",
      "source": [],
      "metadata": {
        "id": "UuQW-NK7pUdv"
      },
      "execution_count": 267,
      "outputs": []
    },
    {
      "cell_type": "code",
      "source": [
        "A1=pd.DataFrame(A,columns=['GSTIN NO.'])\n",
        "B1=pd.DataFrame(B,columns=['CIN NO.'])\n",
        "C1=pd.DataFrame(t,columns=['PAN'])\n",
        "D1=pd.DataFrame(bi,columns=['BILL NO.'])\n",
        "E1=pd.DataFrame(d_l,columns=['DATE'])\n",
        "F1=pd.DataFrame(pl,columns=['PLACE OF SUPPLY'])\n",
        "G1=pd.DataFrame(bb,columns=['BILLER'])\n",
        "H1=pd.DataFrame(element,columns=['TOTAL AMOUNT'])\n",
        "I1=pd.DataFrame(element_2,columns=['TOTAL DISCOUNT'])\n",
        "J1=pd.DataFrame(element_3,columns=['NET AMOUNT'])\n",
        "K1=pd.DataFrame(cn,columns=[\"Customer Name\"])\n",
        "L1=pd.DataFrame(fg,columns=[\"Address\"])"
      ],
      "metadata": {
        "id": "KxmasLdt_7QB"
      },
      "execution_count": 268,
      "outputs": []
    },
    {
      "cell_type": "code",
      "source": [
        "Details1 = pd.concat([A1,B1,C1,D1,E1,F1,G1,H1,I1,J1,K1,L1],axis=1)\n",
        "Details1"
      ],
      "metadata": {
        "id": "iQTWfQ0SzOg4",
        "colab": {
          "base_uri": "https://localhost:8080/",
          "height": 111
        },
        "outputId": "e1b0ecea-de97-4423-fbeb-29d4a349c117"
      },
      "execution_count": 269,
      "outputs": [
        {
          "output_type": "execute_result",
          "data": {
            "text/plain": [
              "Empty DataFrame\n",
              "Columns: [GSTIN NO., CIN NO., PAN, BILL NO., DATE, PLACE OF SUPPLY, BILLER, TOTAL AMOUNT, TOTAL DISCOUNT, NET AMOUNT, Customer Name, Address]\n",
              "Index: []"
            ],
            "text/html": [
              "\n",
              "  <div id=\"df-ee4abd17-cf94-4d86-9f90-dca990a53d2e\">\n",
              "    <div class=\"colab-df-container\">\n",
              "      <div>\n",
              "<style scoped>\n",
              "    .dataframe tbody tr th:only-of-type {\n",
              "        vertical-align: middle;\n",
              "    }\n",
              "\n",
              "    .dataframe tbody tr th {\n",
              "        vertical-align: top;\n",
              "    }\n",
              "\n",
              "    .dataframe thead th {\n",
              "        text-align: right;\n",
              "    }\n",
              "</style>\n",
              "<table border=\"1\" class=\"dataframe\">\n",
              "  <thead>\n",
              "    <tr style=\"text-align: right;\">\n",
              "      <th></th>\n",
              "      <th>GSTIN NO.</th>\n",
              "      <th>CIN NO.</th>\n",
              "      <th>PAN</th>\n",
              "      <th>BILL NO.</th>\n",
              "      <th>DATE</th>\n",
              "      <th>PLACE OF SUPPLY</th>\n",
              "      <th>BILLER</th>\n",
              "      <th>TOTAL AMOUNT</th>\n",
              "      <th>TOTAL DISCOUNT</th>\n",
              "      <th>NET AMOUNT</th>\n",
              "      <th>Customer Name</th>\n",
              "      <th>Address</th>\n",
              "    </tr>\n",
              "  </thead>\n",
              "  <tbody>\n",
              "  </tbody>\n",
              "</table>\n",
              "</div>\n",
              "      <button class=\"colab-df-convert\" onclick=\"convertToInteractive('df-ee4abd17-cf94-4d86-9f90-dca990a53d2e')\"\n",
              "              title=\"Convert this dataframe to an interactive table.\"\n",
              "              style=\"display:none;\">\n",
              "        \n",
              "  <svg xmlns=\"http://www.w3.org/2000/svg\" height=\"24px\"viewBox=\"0 0 24 24\"\n",
              "       width=\"24px\">\n",
              "    <path d=\"M0 0h24v24H0V0z\" fill=\"none\"/>\n",
              "    <path d=\"M18.56 5.44l.94 2.06.94-2.06 2.06-.94-2.06-.94-.94-2.06-.94 2.06-2.06.94zm-11 1L8.5 8.5l.94-2.06 2.06-.94-2.06-.94L8.5 2.5l-.94 2.06-2.06.94zm10 10l.94 2.06.94-2.06 2.06-.94-2.06-.94-.94-2.06-.94 2.06-2.06.94z\"/><path d=\"M17.41 7.96l-1.37-1.37c-.4-.4-.92-.59-1.43-.59-.52 0-1.04.2-1.43.59L10.3 9.45l-7.72 7.72c-.78.78-.78 2.05 0 2.83L4 21.41c.39.39.9.59 1.41.59.51 0 1.02-.2 1.41-.59l7.78-7.78 2.81-2.81c.8-.78.8-2.07 0-2.86zM5.41 20L4 18.59l7.72-7.72 1.47 1.35L5.41 20z\"/>\n",
              "  </svg>\n",
              "      </button>\n",
              "      \n",
              "  <style>\n",
              "    .colab-df-container {\n",
              "      display:flex;\n",
              "      flex-wrap:wrap;\n",
              "      gap: 12px;\n",
              "    }\n",
              "\n",
              "    .colab-df-convert {\n",
              "      background-color: #E8F0FE;\n",
              "      border: none;\n",
              "      border-radius: 50%;\n",
              "      cursor: pointer;\n",
              "      display: none;\n",
              "      fill: #1967D2;\n",
              "      height: 32px;\n",
              "      padding: 0 0 0 0;\n",
              "      width: 32px;\n",
              "    }\n",
              "\n",
              "    .colab-df-convert:hover {\n",
              "      background-color: #E2EBFA;\n",
              "      box-shadow: 0px 1px 2px rgba(60, 64, 67, 0.3), 0px 1px 3px 1px rgba(60, 64, 67, 0.15);\n",
              "      fill: #174EA6;\n",
              "    }\n",
              "\n",
              "    [theme=dark] .colab-df-convert {\n",
              "      background-color: #3B4455;\n",
              "      fill: #D2E3FC;\n",
              "    }\n",
              "\n",
              "    [theme=dark] .colab-df-convert:hover {\n",
              "      background-color: #434B5C;\n",
              "      box-shadow: 0px 1px 3px 1px rgba(0, 0, 0, 0.15);\n",
              "      filter: drop-shadow(0px 1px 2px rgba(0, 0, 0, 0.3));\n",
              "      fill: #FFFFFF;\n",
              "    }\n",
              "  </style>\n",
              "\n",
              "      <script>\n",
              "        const buttonEl =\n",
              "          document.querySelector('#df-ee4abd17-cf94-4d86-9f90-dca990a53d2e button.colab-df-convert');\n",
              "        buttonEl.style.display =\n",
              "          google.colab.kernel.accessAllowed ? 'block' : 'none';\n",
              "\n",
              "        async function convertToInteractive(key) {\n",
              "          const element = document.querySelector('#df-ee4abd17-cf94-4d86-9f90-dca990a53d2e');\n",
              "          const dataTable =\n",
              "            await google.colab.kernel.invokeFunction('convertToInteractive',\n",
              "                                                     [key], {});\n",
              "          if (!dataTable) return;\n",
              "\n",
              "          const docLinkHtml = 'Like what you see? Visit the ' +\n",
              "            '<a target=\"_blank\" href=https://colab.research.google.com/notebooks/data_table.ipynb>data table notebook</a>'\n",
              "            + ' to learn more about interactive tables.';\n",
              "          element.innerHTML = '';\n",
              "          dataTable['output_type'] = 'display_data';\n",
              "          await google.colab.output.renderOutput(dataTable, element);\n",
              "          const docLink = document.createElement('div');\n",
              "          docLink.innerHTML = docLinkHtml;\n",
              "          element.appendChild(docLink);\n",
              "        }\n",
              "      </script>\n",
              "    </div>\n",
              "  </div>\n",
              "  "
            ]
          },
          "metadata": {},
          "execution_count": 269
        }
      ]
    },
    {
      "cell_type": "code",
      "source": [
        "Details.append(Details1,ignore_index=True)"
      ],
      "metadata": {
        "colab": {
          "base_uri": "https://localhost:8080/",
          "height": 229
        },
        "id": "TgXcPEFLm8t2",
        "outputId": "a33b5c85-4e1b-475b-ea1e-503b20181fdd"
      },
      "execution_count": 270,
      "outputs": [
        {
          "output_type": "execute_result",
          "data": {
            "text/plain": [
              "         GSTIN NO. CIN NO.  PAN BILL NO.                           DATE  \\\n",
              "0  27AADCL3O6OD1ZV     NaN  NaN      NaN  Date: 06-May-2018 11:11:30 AH   \n",
              "\n",
              "                PLACE OF SUPPLY             BILLER TOTAL AMOUNT  \\\n",
              "0  Place of Supply: Haharashtra  Biller-XXRAH27683          NaN   \n",
              "\n",
              "  TOTAL DISCOUNT NET AMOUNT          Customer Name  \\\n",
              "0            NaN        NaN  Nane: Kaustubh Hishra   \n",
              "\n",
              "                                             Address  \n",
              "0  Address: Osnan Chanber   A/21  Juhu tara road ...  "
            ],
            "text/html": [
              "\n",
              "  <div id=\"df-9e723e72-ef96-4631-a1be-8effeadfda66\">\n",
              "    <div class=\"colab-df-container\">\n",
              "      <div>\n",
              "<style scoped>\n",
              "    .dataframe tbody tr th:only-of-type {\n",
              "        vertical-align: middle;\n",
              "    }\n",
              "\n",
              "    .dataframe tbody tr th {\n",
              "        vertical-align: top;\n",
              "    }\n",
              "\n",
              "    .dataframe thead th {\n",
              "        text-align: right;\n",
              "    }\n",
              "</style>\n",
              "<table border=\"1\" class=\"dataframe\">\n",
              "  <thead>\n",
              "    <tr style=\"text-align: right;\">\n",
              "      <th></th>\n",
              "      <th>GSTIN NO.</th>\n",
              "      <th>CIN NO.</th>\n",
              "      <th>PAN</th>\n",
              "      <th>BILL NO.</th>\n",
              "      <th>DATE</th>\n",
              "      <th>PLACE OF SUPPLY</th>\n",
              "      <th>BILLER</th>\n",
              "      <th>TOTAL AMOUNT</th>\n",
              "      <th>TOTAL DISCOUNT</th>\n",
              "      <th>NET AMOUNT</th>\n",
              "      <th>Customer Name</th>\n",
              "      <th>Address</th>\n",
              "    </tr>\n",
              "  </thead>\n",
              "  <tbody>\n",
              "    <tr>\n",
              "      <th>0</th>\n",
              "      <td>27AADCL3O6OD1ZV</td>\n",
              "      <td>NaN</td>\n",
              "      <td>NaN</td>\n",
              "      <td>NaN</td>\n",
              "      <td>Date: 06-May-2018 11:11:30 AH</td>\n",
              "      <td>Place of Supply: Haharashtra</td>\n",
              "      <td>Biller-XXRAH27683</td>\n",
              "      <td>NaN</td>\n",
              "      <td>NaN</td>\n",
              "      <td>NaN</td>\n",
              "      <td>Nane: Kaustubh Hishra</td>\n",
              "      <td>Address: Osnan Chanber   A/21  Juhu tara road ...</td>\n",
              "    </tr>\n",
              "  </tbody>\n",
              "</table>\n",
              "</div>\n",
              "      <button class=\"colab-df-convert\" onclick=\"convertToInteractive('df-9e723e72-ef96-4631-a1be-8effeadfda66')\"\n",
              "              title=\"Convert this dataframe to an interactive table.\"\n",
              "              style=\"display:none;\">\n",
              "        \n",
              "  <svg xmlns=\"http://www.w3.org/2000/svg\" height=\"24px\"viewBox=\"0 0 24 24\"\n",
              "       width=\"24px\">\n",
              "    <path d=\"M0 0h24v24H0V0z\" fill=\"none\"/>\n",
              "    <path d=\"M18.56 5.44l.94 2.06.94-2.06 2.06-.94-2.06-.94-.94-2.06-.94 2.06-2.06.94zm-11 1L8.5 8.5l.94-2.06 2.06-.94-2.06-.94L8.5 2.5l-.94 2.06-2.06.94zm10 10l.94 2.06.94-2.06 2.06-.94-2.06-.94-.94-2.06-.94 2.06-2.06.94z\"/><path d=\"M17.41 7.96l-1.37-1.37c-.4-.4-.92-.59-1.43-.59-.52 0-1.04.2-1.43.59L10.3 9.45l-7.72 7.72c-.78.78-.78 2.05 0 2.83L4 21.41c.39.39.9.59 1.41.59.51 0 1.02-.2 1.41-.59l7.78-7.78 2.81-2.81c.8-.78.8-2.07 0-2.86zM5.41 20L4 18.59l7.72-7.72 1.47 1.35L5.41 20z\"/>\n",
              "  </svg>\n",
              "      </button>\n",
              "      \n",
              "  <style>\n",
              "    .colab-df-container {\n",
              "      display:flex;\n",
              "      flex-wrap:wrap;\n",
              "      gap: 12px;\n",
              "    }\n",
              "\n",
              "    .colab-df-convert {\n",
              "      background-color: #E8F0FE;\n",
              "      border: none;\n",
              "      border-radius: 50%;\n",
              "      cursor: pointer;\n",
              "      display: none;\n",
              "      fill: #1967D2;\n",
              "      height: 32px;\n",
              "      padding: 0 0 0 0;\n",
              "      width: 32px;\n",
              "    }\n",
              "\n",
              "    .colab-df-convert:hover {\n",
              "      background-color: #E2EBFA;\n",
              "      box-shadow: 0px 1px 2px rgba(60, 64, 67, 0.3), 0px 1px 3px 1px rgba(60, 64, 67, 0.15);\n",
              "      fill: #174EA6;\n",
              "    }\n",
              "\n",
              "    [theme=dark] .colab-df-convert {\n",
              "      background-color: #3B4455;\n",
              "      fill: #D2E3FC;\n",
              "    }\n",
              "\n",
              "    [theme=dark] .colab-df-convert:hover {\n",
              "      background-color: #434B5C;\n",
              "      box-shadow: 0px 1px 3px 1px rgba(0, 0, 0, 0.15);\n",
              "      filter: drop-shadow(0px 1px 2px rgba(0, 0, 0, 0.3));\n",
              "      fill: #FFFFFF;\n",
              "    }\n",
              "  </style>\n",
              "\n",
              "      <script>\n",
              "        const buttonEl =\n",
              "          document.querySelector('#df-9e723e72-ef96-4631-a1be-8effeadfda66 button.colab-df-convert');\n",
              "        buttonEl.style.display =\n",
              "          google.colab.kernel.accessAllowed ? 'block' : 'none';\n",
              "\n",
              "        async function convertToInteractive(key) {\n",
              "          const element = document.querySelector('#df-9e723e72-ef96-4631-a1be-8effeadfda66');\n",
              "          const dataTable =\n",
              "            await google.colab.kernel.invokeFunction('convertToInteractive',\n",
              "                                                     [key], {});\n",
              "          if (!dataTable) return;\n",
              "\n",
              "          const docLinkHtml = 'Like what you see? Visit the ' +\n",
              "            '<a target=\"_blank\" href=https://colab.research.google.com/notebooks/data_table.ipynb>data table notebook</a>'\n",
              "            + ' to learn more about interactive tables.';\n",
              "          element.innerHTML = '';\n",
              "          dataTable['output_type'] = 'display_data';\n",
              "          await google.colab.output.renderOutput(dataTable, element);\n",
              "          const docLink = document.createElement('div');\n",
              "          docLink.innerHTML = docLinkHtml;\n",
              "          element.appendChild(docLink);\n",
              "        }\n",
              "      </script>\n",
              "    </div>\n",
              "  </div>\n",
              "  "
            ]
          },
          "metadata": {},
          "execution_count": 270
        }
      ]
    },
    {
      "cell_type": "code",
      "source": [
        "Details.to_excel(\"naresh.xlsx\")"
      ],
      "metadata": {
        "id": "L2c9jh2waMeI"
      },
      "execution_count": 152,
      "outputs": []
    },
    {
      "cell_type": "code",
      "source": [],
      "metadata": {
        "id": "yNdFRQ9-cOdx"
      },
      "execution_count": 85,
      "outputs": []
    }
  ]
}